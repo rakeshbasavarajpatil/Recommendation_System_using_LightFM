{
 "cells": [
  {
   "cell_type": "markdown",
   "metadata": {},
   "source": [
    "Recommendation system of the movies for the user id we give based on the input library. The details for the library used and code are provided at the bottom."
   ]
  },
  {
   "cell_type": "code",
   "execution_count": 3,
   "metadata": {},
   "outputs": [],
   "source": [
    "import numpy as np\n",
    "from lightfm import LightFM\n"
   ]
  },
  {
   "cell_type": "code",
   "execution_count": 4,
   "metadata": {
    "collapsed": true
   },
   "outputs": [],
   "source": [
    "from lightfm.datasets import fetch_movielens"
   ]
  },
  {
   "cell_type": "code",
   "execution_count": 5,
   "metadata": {
    "collapsed": true
   },
   "outputs": [],
   "source": [
    "#Let's grab the data\n",
    "data = fetch_movielens(min_rating = 3.5)\n",
    "#3.5 rating not bad movie!!!"
   ]
  },
  {
   "cell_type": "code",
   "execution_count": 6,
   "metadata": {
    "collapsed": true
   },
   "outputs": [],
   "source": [
    "#The rating enables us to collect data only above 3.5 rating and stores it\n",
    "model = LightFM(loss='warp')\n",
    "#WARP stands for Weighted Approximate Rank Pairwise\n",
    "#Its a hybrid system which uses a combination of collabrative and content based recommendation"
   ]
  },
  {
   "cell_type": "code",
   "execution_count": 7,
   "metadata": {},
   "outputs": [
    {
     "data": {
      "text/plain": [
       "<lightfm.lightfm.LightFM at 0xb09ee48>"
      ]
     },
     "execution_count": 7,
     "metadata": {},
     "output_type": "execute_result"
    }
   ],
   "source": [
    "model.fit(data['train'], epochs=30, num_threads=2)\n",
    "#epochs is number of runs\n",
    "#num_threads is number of parallel computations"
   ]
  },
  {
   "cell_type": "code",
   "execution_count": 9,
   "metadata": {},
   "outputs": [],
   "source": [
    "#evaluate the model\n",
    "from lightfm.evaluation import precision_at_k"
   ]
  },
  {
   "cell_type": "code",
   "execution_count": 10,
   "metadata": {
    "collapsed": true
   },
   "outputs": [],
   "source": [
    "test_precision = precision_at_k(model, data['test'], k=3.5).mean()"
   ]
  },
  {
   "cell_type": "code",
   "execution_count": 11,
   "metadata": {},
   "outputs": [
    {
     "data": {
      "text/plain": [
       "0.099724688"
      ]
     },
     "execution_count": 11,
     "metadata": {},
     "output_type": "execute_result"
    }
   ],
   "source": [
    "test_precision"
   ]
  },
  {
   "cell_type": "code",
   "execution_count": 18,
   "metadata": {},
   "outputs": [],
   "source": [
    "def samp_rec(model,data,user_ids):\n",
    "    #number of users and movies in training data\n",
    "    n_users,n_movies = data['train'].shape\n",
    "    \n",
    "    for user_id in user_ids:\n",
    "        #movies they like\n",
    "        positives = data['item_labels'][data['train'].tocsr()[user_id].indices]\n",
    "        \n",
    "        #movies they may like\n",
    "        score = model.predict(user_id,np.arange(n_movies))\n",
    "        \n",
    "        #rank them in order\n",
    "        top_movies = data['item_labels'][np.argsort(-score)]\n",
    "        \n",
    "        #lets print them\n",
    "        print(\"User %s\" %user_id)\n",
    "        print(\"    positives:\")\n",
    "        \n",
    "        #only top 3\n",
    "        for x in positives[:3]:\n",
    "            print(\"     %s\" % x )\n",
    "            \n",
    "        print(\"      Recommended:\")\n",
    "        \n",
    "        for x in top_movies[:3]:\n",
    "            print(\"     %s\" % x)\n",
    "        \n",
    "        "
   ]
  },
  {
   "cell_type": "code",
   "execution_count": 21,
   "metadata": {},
   "outputs": [
    {
     "name": "stdout",
     "output_type": "stream",
     "text": [
      "User 18\n",
      "    positives:\n",
      "     Babe (1995)\n",
      "     Groundhog Day (1993)\n",
      "     M*A*S*H (1970)\n",
      "      Recommended:\n",
      "     Fargo (1996)\n",
      "     Star Wars (1977)\n",
      "     Godfather, The (1972)\n"
     ]
    }
   ],
   "source": [
    "#let's try printing them\n",
    "samp_rec(model,data,[18])"
   ]
  },
  {
   "cell_type": "code",
   "execution_count": 22,
   "metadata": {},
   "outputs": [
    {
     "name": "stdout",
     "output_type": "stream",
     "text": [
      "User 18\n",
      "    positives:\n",
      "     Babe (1995)\n",
      "     Groundhog Day (1993)\n",
      "     M*A*S*H (1970)\n",
      "      Recommended:\n",
      "     Fargo (1996)\n",
      "     Star Wars (1977)\n",
      "     Godfather, The (1972)\n",
      "User 200\n",
      "    positives:\n",
      "     Get Shorty (1995)\n",
      "     Seven (Se7en) (1995)\n",
      "     Usual Suspects, The (1995)\n",
      "      Recommended:\n",
      "     Fargo (1996)\n",
      "     Godfather, The (1972)\n",
      "     L.A. Confidential (1997)\n",
      "User 45\n",
      "    positives:\n",
      "     Twelve Monkeys (1995)\n",
      "     Star Wars (1977)\n",
      "     Welcome to the Dollhouse (1995)\n",
      "      Recommended:\n",
      "     Contact (1997)\n",
      "     English Patient, The (1996)\n",
      "     Air Force One (1997)\n"
     ]
    }
   ],
   "source": [
    "samp_rec(model,data,[18,200,45])"
   ]
  },
  {
   "cell_type": "code",
   "execution_count": 23,
   "metadata": {},
   "outputs": [
    {
     "name": "stdout",
     "output_type": "stream",
     "text": [
      "<943x1682 sparse matrix of type '<type 'numpy.float32'>'\n",
      "\twith 49906 stored elements in COOrdinate format>\n"
     ]
    }
   ],
   "source": [
    "print(repr(data['train']))"
   ]
  },
  {
   "cell_type": "markdown",
   "metadata": {},
   "source": [
    "The project is based on the lightFM mentioned below:\n",
    "https://github.com/lyst/lightfm\n",
    "\n",
    "It also uses parts of code from Siraj Raval!!!"
   ]
  }
 ],
 "metadata": {
  "kernelspec": {
   "display_name": "Python 2",
   "language": "python",
   "name": "python2"
  },
  "language_info": {
   "codemirror_mode": {
    "name": "ipython",
    "version": 2
   },
   "file_extension": ".py",
   "mimetype": "text/x-python",
   "name": "python",
   "nbconvert_exporter": "python",
   "pygments_lexer": "ipython2",
   "version": "2.7.14"
  }
 },
 "nbformat": 4,
 "nbformat_minor": 2
}
